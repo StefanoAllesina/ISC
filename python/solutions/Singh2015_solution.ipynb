{
 "cells": [
  {
   "cell_type": "markdown",
   "metadata": {},
   "source": [
    "# Solution of Singh *et al.* 2015"
   ]
  },
  {
   "cell_type": "markdown",
   "metadata": {},
   "source": [
    "## Compute the mean `RecombinantFraction` for each `Line` and `InfectionStatus`. Print the results like:\n",
    "\n",
    "```Line 45 Average Recombination Rate:\n",
    "W :  0.187\n",
    "I :  0.191\n",
    "```"
   ]
  },
  {
   "cell_type": "markdown",
   "metadata": {},
   "source": [
    "To read the data, we're going to use the `csv` library. First, we need to import it:"
   ]
  },
  {
   "cell_type": "code",
   "execution_count": 1,
   "metadata": {
    "collapsed": true
   },
   "outputs": [],
   "source": [
    "import csv"
   ]
  },
  {
   "cell_type": "markdown",
   "metadata": {},
   "source": [
    "Then, we need to go through all the rows in the file, and for each add the `RecombinantFraction` to the right `Line` and `InfectionStatus`. To do so, we need to choose a data structure. Here we use a dictionary, where the keys are given by `Line`, and each value of the dictionary is another dictionary where the keys `W` and `I` index lists of `RecombinantFraction`."
   ]
  },
  {
   "cell_type": "code",
   "execution_count": 2,
   "metadata": {
    "collapsed": true
   },
   "outputs": [],
   "source": [
    "my_data = {}"
   ]
  },
  {
   "cell_type": "code",
   "execution_count": 3,
   "metadata": {
    "collapsed": false
   },
   "outputs": [
    {
     "name": "stdout",
     "output_type": "stream",
     "text": [
      "21 I 0.1826923077\n"
     ]
    }
   ],
   "source": [
    "with open('../data/Singh2015_data.csv') as csvfile:\n",
    "    reader = csv.DictReader(csvfile)\n",
    "    for row in reader:\n",
    "        my_line = row['Line']\n",
    "        my_status = row['InfectionStatus']\n",
    "        my_recomb = float(row['RecombinantFraction'])\n",
    "        # Test by printing the values\n",
    "        print(my_line, my_status, my_recomb)\n",
    "        # just print the first row\n",
    "        break"
   ]
  },
  {
   "cell_type": "markdown",
   "metadata": {},
   "source": [
    "Now we need to perform operations for each row. First, we're going to check whether `my_data` already contains the `Line` for that row. If not, we'll create the key-value in the dictionary. Then, we're going to add the value to the list."
   ]
  },
  {
   "cell_type": "code",
   "execution_count": 4,
   "metadata": {
    "collapsed": true
   },
   "outputs": [],
   "source": [
    "with open('../data/Singh2015_data.csv') as csvfile:\n",
    "    reader = csv.DictReader(csvfile)\n",
    "    for row in reader:\n",
    "        my_line = row['Line']\n",
    "        my_status = row['InfectionStatus']\n",
    "        my_recomb = float(row['RecombinantFraction'])\n",
    "        # if my_line is not present in the dictionary:\n",
    "        if my_line not in my_data:\n",
    "            # create and initialize with a dictionary containing\n",
    "            # two empty lists\n",
    "            my_data[my_line] = {'W': [], 'I':[]}\n",
    "        # Now insert the value in the right list\n",
    "        my_data[my_line][my_status].append(my_recomb)"
   ]
  },
  {
   "cell_type": "markdown",
   "metadata": {},
   "source": [
    "Now we should have the data organized in a nice structure:"
   ]
  },
  {
   "cell_type": "code",
   "execution_count": 5,
   "metadata": {
    "collapsed": false
   },
   "outputs": [
    {
     "data": {
      "text/plain": [
       "{'21': {'I': [0.1826923077,\n",
       "   0.1850393701,\n",
       "   0.1856540084,\n",
       "   0.1866666667,\n",
       "   0.1904761905,\n",
       "   0.1958762887,\n",
       "   0.2180094787,\n",
       "   0.2534246575],\n",
       "  'W': [0.1288343558,\n",
       "   0.163141994,\n",
       "   0.1674208145,\n",
       "   0.1746478873,\n",
       "   0.175,\n",
       "   0.1779661017,\n",
       "   0.191588785,\n",
       "   0.1961722488,\n",
       "   0.2026578073,\n",
       "   0.2032258065]},\n",
       " '40': {'I': [0.1573426573,\n",
       "   0.1614173228,\n",
       "   0.1666666667,\n",
       "   0.1693989071,\n",
       "   0.1740890688,\n",
       "   0.1779141104,\n",
       "   0.1878980892,\n",
       "   0.2110552764,\n",
       "   0.2153846154],\n",
       "  'W': [0.125,\n",
       "   0.156424581,\n",
       "   0.1564885496,\n",
       "   0.1595744681,\n",
       "   0.1602209945,\n",
       "   0.1651376147,\n",
       "   0.1694915254,\n",
       "   0.1700404858,\n",
       "   0.1710526316,\n",
       "   0.180952381,\n",
       "   0.1828793774,\n",
       "   0.1888888889,\n",
       "   0.1892857143,\n",
       "   0.2123287671,\n",
       "   0.2247706422,\n",
       "   0.2340425532]},\n",
       " '45': {'I': [0.1666666667,\n",
       "   0.1736111111,\n",
       "   0.1838565022,\n",
       "   0.1862068966,\n",
       "   0.1873015873,\n",
       "   0.1875,\n",
       "   0.188976378,\n",
       "   0.1981707317,\n",
       "   0.1993355482,\n",
       "   0.2068965517,\n",
       "   0.2077922078,\n",
       "   0.2080745342],\n",
       "  'W': [0.1481481481,\n",
       "   0.1625,\n",
       "   0.175862069,\n",
       "   0.1859504132,\n",
       "   0.1906779661,\n",
       "   0.2007722008,\n",
       "   0.2032967033,\n",
       "   0.2033195021,\n",
       "   0.213740458]},\n",
       " '73': {'I': [0.1666666667,\n",
       "   0.1812297735,\n",
       "   0.1818181818,\n",
       "   0.1850746269,\n",
       "   0.2109090909,\n",
       "   0.2179487179,\n",
       "   0.2183098592,\n",
       "   0.2339449541],\n",
       "  'W': [0.1551724138,\n",
       "   0.1573033708,\n",
       "   0.1653543307,\n",
       "   0.1678321678,\n",
       "   0.1744680851,\n",
       "   0.1802721088,\n",
       "   0.1944444444,\n",
       "   0.1952861953,\n",
       "   0.1956521739,\n",
       "   0.2]}}"
      ]
     },
     "execution_count": 5,
     "metadata": {},
     "output_type": "execute_result"
    }
   ],
   "source": [
    "my_data"
   ]
  },
  {
   "cell_type": "markdown",
   "metadata": {},
   "source": [
    "Time to calculate the means and print the results:"
   ]
  },
  {
   "cell_type": "code",
   "execution_count": 6,
   "metadata": {
    "collapsed": false
   },
   "outputs": [
    {
     "name": "stdout",
     "output_type": "stream",
     "text": [
      "Line 45 Average Recombination Rate:\n",
      "W :  0.187\n",
      "I :  0.191\n",
      "\n",
      "Line 21 Average Recombination Rate:\n",
      "W :  0.178\n",
      "I :  0.2\n",
      "\n",
      "Line 40 Average Recombination Rate:\n",
      "W :  0.178\n",
      "I :  0.18\n",
      "\n",
      "Line 73 Average Recombination Rate:\n",
      "W :  0.179\n",
      "I :  0.199\n",
      "\n"
     ]
    }
   ],
   "source": [
    "for line in my_data:\n",
    "    print('Line', line, 'Average Recombination Rate:')\n",
    "    # extract the relevant data\n",
    "    my_subset = my_data[line]\n",
    "    for status in ['W', 'I']:\n",
    "        print(status, ':', end = '') # to prevent new line\n",
    "        my_mean = sum(my_subset[status])\n",
    "        my_num_elements = len(my_subset[status])\n",
    "        my_mean = my_mean / my_num_elements\n",
    "        print(' ', round(my_mean, 3))\n",
    "    print('') # to separate the lines"
   ]
  },
  {
   "cell_type": "code",
   "execution_count": null,
   "metadata": {
    "collapsed": true
   },
   "outputs": [],
   "source": []
  }
 ],
 "metadata": {
  "kernelspec": {
   "display_name": "Python 2",
   "language": "python",
   "name": "python2"
  },
  "language_info": {
   "codemirror_mode": {
    "name": "ipython",
    "version": 2
   },
   "file_extension": ".py",
   "mimetype": "text/x-python",
   "name": "python",
   "nbconvert_exporter": "python",
   "pygments_lexer": "ipython2",
   "version": "2.7.9"
  }
 },
 "nbformat": 4,
 "nbformat_minor": 0
}
