{
 "cells": [
  {
   "cell_type": "markdown",
   "metadata": {},
   "source": [
    "# Solution of  Dalziel *et al.* 2015"
   ]
  },
  {
   "cell_type": "markdown",
   "metadata": {},
   "source": [
    "## Write a function that takes as arguments the name of a city and the index of a biweek (from 1 to 26). The function should return the number of cases of measles for that city and biweekly period, for all the available years."
   ]
  },
  {
   "cell_type": "markdown",
   "metadata": {},
   "source": [
    "First, we are going to build the pieces that go into the function. Once we're done, we're going to write the function itself. For testing, we choose `BALTIMORE` as the city and `3` as the biweek."
   ]
  },
  {
   "cell_type": "code",
   "execution_count": 1,
   "metadata": {
    "collapsed": true
   },
   "outputs": [],
   "source": [
    "city = 'BALTIMORE'"
   ]
  },
  {
   "cell_type": "code",
   "execution_count": 2,
   "metadata": {
    "collapsed": true
   },
   "outputs": [],
   "source": [
    "biweek = 3"
   ]
  },
  {
   "cell_type": "markdown",
   "metadata": {},
   "source": [
    "Open the file using the `csv` package:"
   ]
  },
  {
   "cell_type": "code",
   "execution_count": 3,
   "metadata": {
    "collapsed": false
   },
   "outputs": [
    {
     "name": "stdout",
     "output_type": "stream",
     "text": [
      "{'biweek': '1', 'loc': 'BALTIMORE', 'year': '1906', 'pop': '526822.1365', 'cases': 'NA'}\n"
     ]
    }
   ],
   "source": [
    "import csv\n",
    "with open('../data/Dalziel2015_data.csv') as csvfile:\n",
    "    reader = csv.DictReader(csvfile)\n",
    "    print(next(reader))"
   ]
  },
  {
   "cell_type": "markdown",
   "metadata": {},
   "source": [
    "As you can see, this reads each row in the file an converts it into a dictionary, using the header to name the keys. This makes it very simple to filter the desired records:"
   ]
  },
  {
   "cell_type": "code",
   "execution_count": 4,
   "metadata": {
    "collapsed": false
   },
   "outputs": [
    {
     "name": "stdout",
     "output_type": "stream",
     "text": [
      "1906 NA\n",
      "1907 129\n",
      "1908 70\n",
      "1909 177\n",
      "1910 44\n",
      "1911 261\n",
      "1912 14\n",
      "1913 163\n",
      "1914 17\n",
      "1915 9\n",
      "1916 402\n",
      "1917 33\n",
      "1918 240\n",
      "1919 25\n",
      "1920 270\n",
      "1921 74\n",
      "1922 215\n",
      "1923 160\n",
      "1924 84\n",
      "1925 13\n",
      "1926 2341\n",
      "1927 5\n",
      "1928 878\n",
      "1929 4\n",
      "1930 4\n",
      "1931 592\n",
      "1932 5\n",
      "1933 3\n",
      "1934 213\n",
      "1935 29\n",
      "1936 31\n",
      "1937 574\n",
      "1938 12\n",
      "1939 1938\n",
      "1940 4\n",
      "1941 8\n",
      "1942 388\n",
      "1943 23\n",
      "1944 712\n",
      "1945 13\n",
      "1946 84\n",
      "1947 9\n",
      "1948 5\n"
     ]
    }
   ],
   "source": [
    "with open('../data/Dalziel2015_data.csv') as csvfile:\n",
    "    reader = csv.DictReader(csvfile)\n",
    "    for row in reader:\n",
    "        if row['loc'] == city and int(row['biweek']) == biweek:\n",
    "            print(row['year'], row['cases'])"
   ]
  },
  {
   "cell_type": "markdown",
   "metadata": {},
   "source": [
    "Now that we have the code ready, we can write a function:"
   ]
  },
  {
   "cell_type": "code",
   "execution_count": 5,
   "metadata": {
    "collapsed": false
   },
   "outputs": [],
   "source": [
    "import csv\n",
    "\n",
    "def get_cases_city_biweek(city = \"BALTIMORE\", biweek = 5):\n",
    "    with open('../data/Dalziel2015_data.csv') as csvfile:\n",
    "        reader = csv.DictReader(csvfile)\n",
    "        for row in reader:\n",
    "            if row['loc'] == city and int(row['biweek']) == biweek:\n",
    "                print(row['year'], row['cases'])"
   ]
  },
  {
   "cell_type": "markdown",
   "metadata": {},
   "source": [
    "We can call the function using another city/biweek, for example `BOSTON` and `7`:"
   ]
  },
  {
   "cell_type": "code",
   "execution_count": 6,
   "metadata": {
    "collapsed": false
   },
   "outputs": [
    {
     "name": "stdout",
     "output_type": "stream",
     "text": [
      "1906 NA\n",
      "1907 26\n",
      "1908 414\n",
      "1909 150\n",
      "1910 276\n",
      "1911 332\n",
      "1912 325\n",
      "1913 497\n",
      "1914 188\n",
      "1915 512\n",
      "1916 293\n",
      "1917 360\n",
      "1918 489\n",
      "1919 21\n",
      "1920 456\n",
      "1921 286\n",
      "1922 400\n",
      "1923 323\n",
      "1924 347\n",
      "1925 610\n",
      "1926 341\n",
      "1927 159\n",
      "1928 825\n",
      "1929 31\n",
      "1930 876\n",
      "1931 223\n",
      "1932 129\n",
      "1933 278\n",
      "1934 773\n",
      "1935 79\n",
      "1936 761\n",
      "1937 33\n",
      "1938 441\n",
      "1939 322\n",
      "1940 149\n",
      "1941 554\n",
      "1942 371\n",
      "1943 348\n",
      "1944 291\n",
      "1945 216\n",
      "1946 779\n",
      "1947 123\n",
      "1948 826\n"
     ]
    }
   ],
   "source": [
    "get_cases_city_biweek('BOSTON', 7)"
   ]
  },
  {
   "cell_type": "markdown",
   "metadata": {},
   "source": [
    "## Write a function that returns all the cities in the dataset."
   ]
  },
  {
   "cell_type": "markdown",
   "metadata": {},
   "source": [
    "There are different ways to do this. Here, the strategy is to construct a `set`, so that cities are not repeated:"
   ]
  },
  {
   "cell_type": "code",
   "execution_count": 7,
   "metadata": {
    "collapsed": true
   },
   "outputs": [],
   "source": [
    "def get_all_cities():\n",
    "    all_cities = set([])\n",
    "    with open('../data/Dalziel2015_data.csv') as csvfile:\n",
    "        reader = csv.DictReader(csvfile)\n",
    "        for row in reader:\n",
    "            all_cities.add(row['loc'])\n",
    "    return(all_cities)"
   ]
  },
  {
   "cell_type": "markdown",
   "metadata": {},
   "source": [
    "Now invoke the function:"
   ]
  },
  {
   "cell_type": "code",
   "execution_count": 8,
   "metadata": {
    "collapsed": false
   },
   "outputs": [
    {
     "data": {
      "text/plain": [
       "{'BALTIMORE',\n",
       " 'BOSTON',\n",
       " 'BRIDGEPORT',\n",
       " 'BUFFALO',\n",
       " 'CHICAGO',\n",
       " 'CINCINNATI',\n",
       " 'CLEVELAND',\n",
       " 'COLUMBUS',\n",
       " 'DENVER',\n",
       " 'DETROIT',\n",
       " 'DULUTH',\n",
       " 'FALL RIVER',\n",
       " 'GRAND RAPIDS',\n",
       " 'HARTFORD',\n",
       " 'INDIANAPOLIS',\n",
       " 'KANSAS CITY',\n",
       " 'LOS ANGELES',\n",
       " 'MILWAUKEE',\n",
       " 'MINNEAPOLIS',\n",
       " 'NASHVILLE',\n",
       " 'NEW HAVEN',\n",
       " 'NEW ORLEANS',\n",
       " 'NEW YORK',\n",
       " 'NEWARK',\n",
       " 'PHILADELPHIA',\n",
       " 'PITTSBURGH',\n",
       " 'PROVIDENCE',\n",
       " 'READING.US',\n",
       " 'RICHMOND',\n",
       " 'ROCHESTER',\n",
       " 'SALT LAKE CITY',\n",
       " 'SAN FRANCISCO',\n",
       " 'SEATTLE',\n",
       " 'SPOKANE',\n",
       " 'SPRINGFIELD',\n",
       " 'ST LOUIS',\n",
       " 'TOLEDO',\n",
       " 'TRENTON',\n",
       " 'WASHINGTON',\n",
       " 'WORCESTER'}"
      ]
     },
     "execution_count": 8,
     "metadata": {},
     "output_type": "execute_result"
    }
   ],
   "source": [
    "get_all_cities()"
   ]
  },
  {
   "cell_type": "code",
   "execution_count": null,
   "metadata": {
    "collapsed": true
   },
   "outputs": [],
   "source": []
  }
 ],
 "metadata": {
  "kernelspec": {
   "display_name": "Python 2",
   "language": "python",
   "name": "python2"
  },
  "language_info": {
   "codemirror_mode": {
    "name": "ipython",
    "version": 2
   },
   "file_extension": ".py",
   "mimetype": "text/x-python",
   "name": "python",
   "nbconvert_exporter": "python",
   "pygments_lexer": "ipython2",
   "version": "2.7.9"
  }
 },
 "nbformat": 4,
 "nbformat_minor": 0
}
