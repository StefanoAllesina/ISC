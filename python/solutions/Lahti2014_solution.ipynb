{
 "cells": [
  {
   "cell_type": "markdown",
   "metadata": {},
   "source": [
    "# Solution of Lahti *et al.* 2014\n",
    "\n",
    "### Write a function that takes as input a dictionary of constraints and returns a dictionary tabulating the BMI group for all the records matching the constraints. For example, calling: \n",
    "```\n",
    "get_BMI_count({'Age': '28', 'Sex': 'female'})\n",
    "``` \n",
    "### should return:\n",
    "```\n",
    "{'NA': 3, 'lean': 8, 'overweight': 2, 'underweight': 1}\n",
    "```\n",
    "\n",
    "Import `csv` for reading the file."
   ]
  },
  {
   "cell_type": "code",
   "execution_count": 1,
   "metadata": {
    "collapsed": true
   },
   "outputs": [],
   "source": [
    "import csv"
   ]
  },
  {
   "cell_type": "markdown",
   "metadata": {},
   "source": [
    "Now write the function. For each row in the file, you need to make sure all the constraints are matching the desired ones. If so, keep track of the BMI group using a dictionary."
   ]
  },
  {
   "cell_type": "code",
   "execution_count": 2,
   "metadata": {
    "collapsed": true
   },
   "outputs": [],
   "source": [
    "def get_BMI_count(dict_constraints):\n",
    "    \"\"\" Take as input a dictionary of constraints\n",
    "        for example, {'Age': '28', 'Sex': 'female'}\n",
    "        And return the count of the various groups of BMI\n",
    "    \"\"\"\n",
    "    # We use a dictionary to store the results\n",
    "    BMI_count = {}\n",
    "    # Open the file, build a csv DictReader\n",
    "    with open('../data/Lahti2014/Metadata.tab') as f:\n",
    "        csvr = csv.DictReader(f, delimiter = '\\t')\n",
    "        # For each row\n",
    "        for row in csvr:\n",
    "            # check that all conditions are met\n",
    "            matching = True\n",
    "            for e in dict_constraints:\n",
    "                if row[e] != dict_constraints[e]:\n",
    "                    # The constraint is not met. Move to the next record\n",
    "                    matching = False\n",
    "                    break\n",
    "            # matching is True only if all the constraints have been met\n",
    "            if matching == True:\n",
    "                # extract the BMI_group\n",
    "                my_BMI = row['BMI_group']\n",
    "                if my_BMI in BMI_count.keys():\n",
    "                    # If we've seen it before, add one record to the count\n",
    "                    BMI_count[my_BMI] = BMI_count[my_BMI] + 1\n",
    "                else:\n",
    "                    # If not, initialize at 1\n",
    "                    BMI_count[my_BMI] = 1\n",
    "    return BMI_count"
   ]
  },
  {
   "cell_type": "code",
   "execution_count": 3,
   "metadata": {
    "collapsed": false
   },
   "outputs": [
    {
     "data": {
      "text/plain": [
       "{'lean': 12, 'obese': 3, 'overweight': 5, 'severeobese': 1, 'underweight': 3}"
      ]
     },
     "execution_count": 3,
     "metadata": {},
     "output_type": "execute_result"
    }
   ],
   "source": [
    "get_BMI_count({'Nationality': 'US', 'Sex': 'female'})"
   ]
  },
  {
   "cell_type": "markdown",
   "metadata": {},
   "source": [
    "### Write a function that takes as input the constraints (as above), and a bacterial \"genus\". The function returns the average abundance (in logarithm base 10) of the genus for each group of BMI in the sub-population. For example, calling:\n",
    "```\n",
    "get_abundance_by_BMI({'Time': '0', 'Nationality': 'US'}, 'Clostridium difficile et rel.')\n",
    "```\n",
    "### should return:\n",
    "```\n",
    "____________________________________________________________________\n",
    "Abundance of Clostridium difficile et rel. In sub-population:\n",
    "____________________________________________________________________\n",
    "Nationality -> US\n",
    "Time -> 0\n",
    "____________________________________________________________________\n",
    "3.08 \t NA\n",
    "3.31 \t underweight\n",
    "3.84 \t lean\n",
    "2.89 \t overweight\n",
    "3.31 \t obese\n",
    "3.45 \t severeobese\n",
    "____________________________________________________________________\n",
    "```"
   ]
  },
  {
   "cell_type": "code",
   "execution_count": 4,
   "metadata": {
    "collapsed": true
   },
   "outputs": [],
   "source": [
    "import scipy # For log10\n",
    "\n",
    "def get_abundance_by_BMI(dict_constraints, genus = 'Aerococcus'):\n",
    "    # We use a dictionary to store the results\n",
    "    BMI_IDs = {}\n",
    "    # Open the file, build a csv DictReader\n",
    "    with open('../data/Lahti2014/Metadata.tab') as f:\n",
    "        csvr = csv.DictReader(f, delimiter = '\\t')\n",
    "        # For each row\n",
    "        for row in csvr:\n",
    "            # check that all conditions are met\n",
    "            matching = True\n",
    "            for e in dict_constraints:\n",
    "                if row[e] != dict_constraints[e]:\n",
    "                    # The constraint is not met. Move to the next record\n",
    "                    matching = False\n",
    "                    break\n",
    "            # matching is True only if all the constraints have been met\n",
    "            if matching == True:\n",
    "                # extract the BMI_group\n",
    "                my_BMI = row['BMI_group']\n",
    "                if my_BMI in BMI_IDs.keys():\n",
    "                    # If we've seen it before, add the SampleID\n",
    "                    BMI_IDs[my_BMI] = BMI_IDs[my_BMI] + [row['SampleID']]\n",
    "                else:\n",
    "                    # If not, initialize\n",
    "                    BMI_IDs[my_BMI] = [row['SampleID']]\n",
    "    # Now let's open the other file, and keep track of the abundance of the genus for each \n",
    "    # BMI group\n",
    "    abundance = {}\n",
    "    with open('../data/Lahti2014/HITChip.tab') as f:\n",
    "        csvr = csv.DictReader(f, delimiter = '\\t')\n",
    "        # For each row\n",
    "        for row in csvr:\n",
    "            # check whether we need this SampleID\n",
    "            matching = False\n",
    "            for g in BMI_IDs:\n",
    "                if row['SampleID'] in BMI_IDs[g]:\n",
    "                    if g in abundance.keys():\n",
    "                        abundance[g][0] = abundance[g][0] + float(row[genus])\n",
    "                        abundance[g][1] = abundance[g][1] + 1\n",
    "                        \n",
    "                    else:\n",
    "                        abundance[g] = [float(row[genus]), 1]\n",
    "                    # we have found it, so move on\n",
    "                    break\n",
    "    # Finally, calculate means, and print results\n",
    "    print(\"____________________________________________________________________\")\n",
    "    print(\"Abundance of \" + genus + \" In sub-population:\")\n",
    "    print(\"____________________________________________________________________\")\n",
    "    for key, value in dict_constraints.items():\n",
    "        print(key, \"->\", value)\n",
    "    print(\"____________________________________________________________________\")\n",
    "    for ab in ['NA', 'underweight', 'lean', 'overweight', \n",
    "               'obese', 'severeobese', 'morbidobese']:\n",
    "        if ab in abundance.keys():\n",
    "            abundance[ab][0] = scipy.log10(abundance[ab][0] / abundance[ab][1])\n",
    "            print(round(abundance[ab][0], 2), '\\t', ab)\n",
    "    print(\"____________________________________________________________________\")\n",
    "    print(\"\")"
   ]
  },
  {
   "cell_type": "code",
   "execution_count": 5,
   "metadata": {
    "collapsed": false
   },
   "outputs": [
    {
     "name": "stdout",
     "output_type": "stream",
     "text": [
      "____________________________________________________________________\n",
      "Abundance of Clostridium difficile et rel. In sub-population:\n",
      "____________________________________________________________________\n",
      "Nationality -> US\n",
      "Time -> 0\n",
      "____________________________________________________________________\n",
      "3.08 \t NA\n",
      "3.31 \t underweight\n",
      "3.84 \t lean\n",
      "2.89 \t overweight\n",
      "3.31 \t obese\n",
      "3.45 \t severeobese\n",
      "____________________________________________________________________\n",
      "\n"
     ]
    }
   ],
   "source": [
    "get_abundance_by_BMI({'Time': '0', 'Nationality': 'US'}, \n",
    "                     'Clostridium difficile et rel.')"
   ]
  },
  {
   "cell_type": "markdown",
   "metadata": {},
   "source": [
    "### Repeat this analysis for all genera, and for the records having `Time = 0`."
   ]
  },
  {
   "cell_type": "markdown",
   "metadata": {},
   "source": [
    "A simple function for extracting all the genera in the database:"
   ]
  },
  {
   "cell_type": "code",
   "execution_count": 6,
   "metadata": {
    "collapsed": true
   },
   "outputs": [],
   "source": [
    "def get_all_genera():\n",
    "    with open('../data/Lahti2014/HITChip.tab') as f:\n",
    "        header = f.readline().strip()\n",
    "    genera = header.split('\\t')[1:]\n",
    "    return genera"
   ]
  },
  {
   "cell_type": "markdown",
   "metadata": {},
   "source": [
    "Testing:"
   ]
  },
  {
   "cell_type": "code",
   "execution_count": 7,
   "metadata": {
    "collapsed": false
   },
   "outputs": [
    {
     "data": {
      "text/plain": [
       "['Actinomycetaceae',\n",
       " 'Aerococcus',\n",
       " 'Aeromonas',\n",
       " 'Akkermansia',\n",
       " 'Alcaligenes faecalis et rel.',\n",
       " 'Allistipes et rel.']"
      ]
     },
     "execution_count": 7,
     "metadata": {},
     "output_type": "execute_result"
    }
   ],
   "source": [
    "get_all_genera()[:6]"
   ]
  },
  {
   "cell_type": "markdown",
   "metadata": {},
   "source": [
    "Now use the function we wrote above to print the results for all genera:"
   ]
  },
  {
   "cell_type": "code",
   "execution_count": 8,
   "metadata": {
    "collapsed": false
   },
   "outputs": [
    {
     "name": "stdout",
     "output_type": "stream",
     "text": [
      "____________________________________________________________________\n",
      "Abundance of Actinomycetaceae In sub-population:\n",
      "____________________________________________________________________\n",
      "Time -> 0\n",
      "____________________________________________________________________\n",
      "1.98 \t NA\n",
      "1.95 \t underweight\n",
      "1.98 \t lean\n",
      "1.97 \t overweight\n",
      "1.93 \t obese\n",
      "1.95 \t severeobese\n",
      "1.9 \t morbidobese\n",
      "____________________________________________________________________\n",
      "\n",
      "____________________________________________________________________\n",
      "Abundance of Aerococcus In sub-population:\n",
      "____________________________________________________________________\n",
      "Time -> 0\n",
      "____________________________________________________________________\n",
      "1.66 \t NA\n",
      "1.63 \t underweight\n",
      "1.66 \t lean\n",
      "1.66 \t overweight\n",
      "1.61 \t obese\n",
      "1.62 \t severeobese\n",
      "1.6 \t morbidobese\n",
      "____________________________________________________________________\n",
      "\n",
      "____________________________________________________________________\n",
      "Abundance of Aeromonas In sub-population:\n",
      "____________________________________________________________________\n",
      "Time -> 0\n",
      "____________________________________________________________________\n",
      "1.68 \t NA\n",
      "1.68 \t underweight\n",
      "1.69 \t lean\n",
      "1.69 \t overweight\n",
      "1.66 \t obese\n",
      "1.66 \t severeobese\n",
      "1.63 \t morbidobese\n",
      "____________________________________________________________________\n",
      "\n",
      "____________________________________________________________________\n",
      "Abundance of Akkermansia In sub-population:\n",
      "____________________________________________________________________\n",
      "Time -> 0\n",
      "____________________________________________________________________\n",
      "3.53 \t NA\n",
      "4.0 \t underweight\n",
      "3.65 \t lean\n",
      "3.71 \t overweight\n",
      "3.52 \t obese\n",
      "3.48 \t severeobese\n",
      "3.35 \t morbidobese\n",
      "____________________________________________________________________\n",
      "\n",
      "____________________________________________________________________\n",
      "Abundance of Alcaligenes faecalis et rel. In sub-population:\n",
      "____________________________________________________________________\n",
      "Time -> 0\n",
      "____________________________________________________________________\n",
      "2.32 \t NA\n",
      "2.26 \t underweight\n",
      "2.36 \t lean\n",
      "2.37 \t overweight\n",
      "2.49 \t obese\n",
      "2.43 \t severeobese\n",
      "2.26 \t morbidobese\n",
      "____________________________________________________________________\n",
      "\n"
     ]
    }
   ],
   "source": [
    "for g in get_all_genera()[:5]:\n",
    "    get_abundance_by_BMI({'Time': '0'}, g)"
   ]
  }
 ],
 "metadata": {
  "kernelspec": {
   "display_name": "Python 3",
   "language": "python",
   "name": "python3"
  },
  "language_info": {
   "codemirror_mode": {
    "name": "ipython",
    "version": 3
   },
   "file_extension": ".py",
   "mimetype": "text/x-python",
   "name": "python",
   "nbconvert_exporter": "python",
   "pygments_lexer": "ipython3",
   "version": "3.4.3"
  }
 },
 "nbformat": 4,
 "nbformat_minor": 0
}
