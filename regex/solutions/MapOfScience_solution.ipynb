{
 "cells": [
  {
   "cell_type": "markdown",
   "metadata": {},
   "source": [
    "# Map of Science Solution\n",
    "### Read the file `pubmed_results.txt`, and extract all the US ZIP codes."
   ]
  },
  {
   "cell_type": "markdown",
   "metadata": {},
   "source": [
    "First, import the modules we'll need."
   ]
  },
  {
   "cell_type": "code",
   "execution_count": 1,
   "metadata": {
    "collapsed": true
   },
   "outputs": [],
   "source": [
    "import re\n",
    "import csv"
   ]
  },
  {
   "cell_type": "markdown",
   "metadata": {},
   "source": [
    "Now read the whole file, and store it into a string."
   ]
  },
  {
   "cell_type": "code",
   "execution_count": 2,
   "metadata": {
    "collapsed": true
   },
   "outputs": [],
   "source": [
    "with open('../data/MapOfScience/pubmed_results.txt') as f:\n",
    "    my_text = f.read()"
   ]
  },
  {
   "cell_type": "code",
   "execution_count": 3,
   "metadata": {
    "collapsed": false
   },
   "outputs": [
    {
     "data": {
      "text/plain": [
       "4941404"
      ]
     },
     "execution_count": 3,
     "metadata": {},
     "output_type": "execute_result"
    }
   ],
   "source": [
    "len(my_text)"
   ]
  },
  {
   "cell_type": "markdown",
   "metadata": {},
   "source": [
    "Note that the zipcode could be broken over two lines, as in line 43 of `pubmed_results.txt`\n",
    "\n",
    "```\n",
    "AD  - Biological and Biomedical Sciences Program, Harvard Medical School, Boston, MA\n",
    "      02115, USA. Department of Genetics, Harvard Medical School, Boston, MA 02115,\n",
    "      USA.\n",
    "```\n",
    "\n",
    "To avoid problems, replace each newline followed by 6 spaces with a single space."
   ]
  },
  {
   "cell_type": "code",
   "execution_count": 4,
   "metadata": {
    "collapsed": false
   },
   "outputs": [],
   "source": [
    "my_text = re.sub(r'\\n\\s{6}', ' ', my_text)"
   ]
  },
  {
   "cell_type": "markdown",
   "metadata": {},
   "source": [
    "This should be ok now:"
   ]
  },
  {
   "cell_type": "code",
   "execution_count": 5,
   "metadata": {
    "collapsed": false
   },
   "outputs": [
    {
     "name": "stdout",
     "output_type": "stream",
     "text": [
      "\n",
      "PMID- 26721686\n",
      "OWN - NLM\n",
      "STAT- Publisher\n",
      "DA  - 20160101\n",
      "LR  - 20160102\n",
      "IS  - 1095-9203 (Electronic)\n",
      "IS  - 0036-8075 (Linking)\n",
      "DP  - 2015 Dec 31\n",
      "TI  - In vivo gene editing in dystrophic mouse muscle and muscle stem cells.\n",
      "LID - aad5177 [pii]\n",
      "AB  - Frame-disrupting mutations in the DMD gene, encoding dystrophin, compromise myofiber integrity and drive muscle deterioration in Duchenne muscular dystrophy  (DMD). Removing one or more exons from the mutated transcript can produce an in-frame mRNA and a truncated, but still functional, protein. In this study, we develop and test a direct gene-editing approach to induce exon deletion and recover dystrophin expression in the mdx mouse model of DMD. Delivery by adeno-associated virus (AAV) of clustered regularly interspaced short palindromic repeats (CRISPR)-Cas9 endonucleases coupled with paired guide RNAs flanking the mutated Dmd exon23 resulted in excision of intervening DNA and restored Dystrophin reading frame in myofibers, cardiomyocytes, and muscle stem cells following local or systemic delivery. AAV-Dmd CRISPR-treatment partially recovered muscle functional deficiencies and generated a pool of endogenously corrected myogenic precursors in mdx mouse muscle.\n",
      "CI  - Copyright (c) 2015, American Association for the Advancement of Science.\n",
      "FAU - Tabebordbar, Mohammadsharif\n",
      "AU  - Tabebordbar M\n",
      "AD  - Department of Stem Cell and Regenerative Biology, Harvard University and Harvard  Stem Cell Institute, Cambridge, MA 02138, USA. Biological and Biomedical Sciences Program, Harvard Medical School, Boston, MA 02115, USA.\n",
      "FAU - Zhu, Kexian\n",
      "AU  - Zhu K\n",
      "AD  - Department of Stem Cell and Regenerative Biology, Harvard University and Harvard  Stem Cell Institute, Cambridge, MA 02138, USA. Department of Molecular and Cellular Biology, Harvard University, Cambridge, MA 02138, USA.\n",
      "FAU - Cheng, Jason K W\n",
      "AU  - Cheng JK\n",
      "AD  - Department of Stem Cell and Regenerative Biology, Harvard University and Harvard  Stem Cell Institute, Cambridge, M\n"
     ]
    }
   ],
   "source": [
    "print(my_text[:2000])"
   ]
  },
  {
   "cell_type": "markdown",
   "metadata": {},
   "source": [
    "Now write a simple regular expression that creates a list of zipcodes:"
   ]
  },
  {
   "cell_type": "code",
   "execution_count": 6,
   "metadata": {
    "collapsed": false
   },
   "outputs": [],
   "source": [
    "zipcodes = re.findall(r'[A-Z]{2}\\s(\\d{5}), USA', my_text)"
   ]
  },
  {
   "cell_type": "markdown",
   "metadata": {},
   "source": [
    "The anatomy of the regular expression:\n",
    "```\n",
    "[A-Z]{2}  -> two capital letters (for the state)\n",
    "\\s -> followed by a space\n",
    "\\d{5} -> followed by exactly 5 digits\n",
    ", USA -> follwed by the string \", USA\"\n",
    "```\n",
    "Note that we use a group `(\\d{5})` to capture exclusively the zipcode proper."
   ]
  },
  {
   "cell_type": "code",
   "execution_count": 7,
   "metadata": {
    "collapsed": false
   },
   "outputs": [
    {
     "data": {
      "text/plain": [
       "5198"
      ]
     },
     "execution_count": 7,
     "metadata": {},
     "output_type": "execute_result"
    }
   ],
   "source": [
    "len(zipcodes)"
   ]
  },
  {
   "cell_type": "code",
   "execution_count": 8,
   "metadata": {
    "collapsed": false
   },
   "outputs": [
    {
     "data": {
      "text/plain": [
       "['02138',\n",
       " '02115',\n",
       " '02138',\n",
       " '02138',\n",
       " '02138',\n",
       " '02115',\n",
       " '02115',\n",
       " '02115',\n",
       " '02142',\n",
       " '02139']"
      ]
     },
     "execution_count": 8,
     "metadata": {},
     "output_type": "execute_result"
    }
   ],
   "source": [
    "zipcodes[:10]"
   ]
  },
  {
   "cell_type": "markdown",
   "metadata": {},
   "source": [
    "Extract the unique zipcodes "
   ]
  },
  {
   "cell_type": "code",
   "execution_count": 9,
   "metadata": {
    "collapsed": true
   },
   "outputs": [],
   "source": [
    "unique_zipcodes = list(set(zipcodes))"
   ]
  },
  {
   "cell_type": "code",
   "execution_count": 10,
   "metadata": {
    "collapsed": false
   },
   "outputs": [],
   "source": [
    "unique_zipcodes.sort()"
   ]
  },
  {
   "cell_type": "code",
   "execution_count": 11,
   "metadata": {
    "collapsed": false
   },
   "outputs": [
    {
     "data": {
      "text/plain": [
       "['00680',\n",
       " '01002',\n",
       " '01003',\n",
       " '01605',\n",
       " '01609',\n",
       " '01610',\n",
       " '01655',\n",
       " '01772',\n",
       " '01854',\n",
       " '01887']"
      ]
     },
     "execution_count": 11,
     "metadata": {},
     "output_type": "execute_result"
    }
   ],
   "source": [
    "unique_zipcodes[:10]"
   ]
  },
  {
   "cell_type": "code",
   "execution_count": 12,
   "metadata": {
    "collapsed": false
   },
   "outputs": [
    {
     "data": {
      "text/plain": [
       "462"
      ]
     },
     "execution_count": 12,
     "metadata": {},
     "output_type": "execute_result"
    }
   ],
   "source": [
    "len(unique_zipcodes)"
   ]
  },
  {
   "cell_type": "markdown",
   "metadata": {},
   "source": [
    "Now create a dictionary with the latitude and longitude for each zipcode:"
   ]
  },
  {
   "cell_type": "code",
   "execution_count": 13,
   "metadata": {
    "collapsed": false
   },
   "outputs": [],
   "source": [
    "zip_coordinates = {}\n",
    "with open('../data/MapOfScience/zipcodes_coordinates.txt') as f:\n",
    "    csvr = csv.DictReader(f)\n",
    "    for row in csvr:\n",
    "        zip_coordinates[row['ZIP']] = [float(row['LAT']), \n",
    "                                       float(row['LNG'])]"
   ]
  },
  {
   "cell_type": "markdown",
   "metadata": {},
   "source": [
    "### Create the lists `zip_code`, containing the ZIP codes, `zip_long`, `zip_lat`, and `zip_count`, containing the unique ZIP codes, their longitude, latitude, and count (number of occurrences in Science), respectively."
   ]
  },
  {
   "cell_type": "code",
   "execution_count": 14,
   "metadata": {
    "collapsed": false
   },
   "outputs": [],
   "source": [
    "zip_code = []\n",
    "zip_long = []\n",
    "zip_lat = []\n",
    "zip_count = []"
   ]
  },
  {
   "cell_type": "markdown",
   "metadata": {},
   "source": [
    "Populate the lists:"
   ]
  },
  {
   "cell_type": "code",
   "execution_count": 15,
   "metadata": {
    "collapsed": false
   },
   "outputs": [],
   "source": [
    "for z in unique_zipcodes:\n",
    "    # if we can find the coordinates\n",
    "    if z in zip_coordinates.keys():\n",
    "        zip_code.append(z)\n",
    "        zip_lat.append(zip_coordinates[z][0])\n",
    "        zip_long.append(zip_coordinates[z][1])\n",
    "        zip_count.append(zipcodes.count(z))"
   ]
  },
  {
   "cell_type": "markdown",
   "metadata": {},
   "source": [
    "### Plot the results using the following code:"
   ]
  },
  {
   "cell_type": "code",
   "execution_count": 16,
   "metadata": {
    "collapsed": false
   },
   "outputs": [
    {
     "data": {
      "image/png": "[encoded data removed]",
      "text/plain": [
       "<matplotlib.figure.Figure at 0x7faf57ff8780>"
      ]
     },
     "metadata": {},
     "output_type": "display_data"
    }
   ],
   "source": [
    "import matplotlib.pyplot as plt\n",
    "%matplotlib inline\n",
    "plt.scatter(zip_long, zip_lat, s = zip_count, c= zip_count)\n",
    "plt.colorbar()\n",
    "# only continental us without Alaska\n",
    "plt.xlim(-125,-65)\n",
    "plt.ylim(23, 50)\n",
    "# add a few cities for reference (optional)\n",
    "ard = dict(arrowstyle=\"->\")\n",
    "plt.annotate('Los Angeles', xy = (-118.25, 34.05), \n",
    "               xytext = (-108.25, 34.05), arrowprops = ard)\n",
    "plt.annotate('Palo Alto', xy = (-122.1381, 37.4292), \n",
    "               xytext = (-112.1381, 37.4292), arrowprops= ard)\n",
    "plt.annotate('Cambrdige', xy = (-71.1106, 42.3736), \n",
    "               xytext = (-73.1106, 48.3736), arrowprops= ard)\n",
    "plt.annotate('Chicago', xy = (-87.6847, 41.8369), \n",
    "               xytext = (-87.6847, 46.8369), arrowprops= ard)\n",
    "plt.annotate('Seattle', xy = (-122.33, 47.61), \n",
    "               xytext = (-116.33, 47.61), arrowprops= ard)\n",
    "plt.annotate('Miami', xy = (-80.21, 25.7753), \n",
    "               xytext = (-80.21, 30.7753), arrowprops= ard)\n",
    "params = plt.gcf()\n",
    "plSize = params.get_size_inches()\n",
    "params.set_size_inches( (plSize[0] * 3, plSize[1] * 3) )\n",
    "plt.show()"
   ]
  },
  {
   "cell_type": "code",
   "execution_count": 20,
   "metadata": {
    "collapsed": false
   },
   "outputs": [
    {
     "data": {
      "text/plain": [
       "215"
      ]
     },
     "execution_count": 20,
     "metadata": {},
     "output_type": "execute_result"
    }
   ],
   "source": [
    "zip_code.index('60637')"
   ]
  },
  {
   "cell_type": "code",
   "execution_count": 21,
   "metadata": {
    "collapsed": false
   },
   "outputs": [
    {
     "data": {
      "text/plain": [
       "101"
      ]
     },
     "execution_count": 21,
     "metadata": {},
     "output_type": "execute_result"
    }
   ],
   "source": [
    "zip_count[215]"
   ]
  },
  {
   "cell_type": "code",
   "execution_count": null,
   "metadata": {
    "collapsed": true
   },
   "outputs": [],
   "source": []
  }
 ],
 "metadata": {
  "kernelspec": {
   "display_name": "Python 3",
   "language": "python",
   "name": "python3"
  },
  "language_info": {
   "codemirror_mode": {
    "name": "ipython",
    "version": 3
   },
   "file_extension": ".py",
   "mimetype": "text/x-python",
   "name": "python",
   "nbconvert_exporter": "python",
   "pygments_lexer": "ipython3",
   "version": "3.4.3"
  }
 },
 "nbformat": 4,
 "nbformat_minor": 0
}
