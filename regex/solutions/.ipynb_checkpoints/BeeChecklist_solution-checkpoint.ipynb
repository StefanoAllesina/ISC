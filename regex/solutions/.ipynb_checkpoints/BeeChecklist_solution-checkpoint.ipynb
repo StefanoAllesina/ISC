{
 "cells": [
  {
   "cell_type": "markdown",
   "metadata": {},
   "source": [
    "## Solution of Bee Checklist"
   ]
  },
  {
   "cell_type": "markdown",
   "metadata": {},
   "source": [
    "First of all, we import the two modules we'll need to read the `csv` file, and to use regular expressions:"
   ]
  },
  {
   "cell_type": "code",
   "execution_count": 1,
   "metadata": {
    "collapsed": true
   },
   "outputs": [],
   "source": [
    "import csv\n",
    "import re"
   ]
  },
  {
   "cell_type": "markdown",
   "metadata": {},
   "source": [
    "Then, we read the file, and store the columns `Scientific Name` and `Taxon Author` in two lists:"
   ]
  },
  {
   "cell_type": "code",
   "execution_count": 2,
   "metadata": {
    "collapsed": true
   },
   "outputs": [],
   "source": [
    "with open('../data/bee_list.txt') as f:\n",
    "    csvr = csv.DictReader(f, delimiter = '\\t')\n",
    "    species = []\n",
    "    authors = []\n",
    "    for r in csvr:\n",
    "        species.append(r['Scientific Name'])\n",
    "        authors.append(r['Taxon Author'])"
   ]
  },
  {
   "cell_type": "markdown",
   "metadata": {},
   "source": [
    "How many species?"
   ]
  },
  {
   "cell_type": "code",
   "execution_count": 3,
   "metadata": {
    "collapsed": false
   },
   "outputs": [
    {
     "data": {
      "text/plain": [
       "19508"
      ]
     },
     "execution_count": 3,
     "metadata": {},
     "output_type": "execute_result"
    }
   ],
   "source": [
    "len(species)"
   ]
  },
  {
   "cell_type": "code",
   "execution_count": 4,
   "metadata": {
    "collapsed": false
   },
   "outputs": [
    {
     "data": {
      "text/plain": [
       "19508"
      ]
     },
     "execution_count": 4,
     "metadata": {},
     "output_type": "execute_result"
    }
   ],
   "source": [
    "len(authors)"
   ]
  },
  {
   "cell_type": "markdown",
   "metadata": {},
   "source": [
    "Pick one of the `authors` element to use for testing. Choose one that is quite complicated, such as the 38th element:"
   ]
  },
  {
   "cell_type": "code",
   "execution_count": 5,
   "metadata": {
    "collapsed": true
   },
   "outputs": [],
   "source": [
    "au = authors[37]"
   ]
  },
  {
   "cell_type": "code",
   "execution_count": 6,
   "metadata": {
    "collapsed": false
   },
   "outputs": [
    {
     "data": {
      "text/plain": [
       "'Tadauchi, Hirashima & Matsumura, 1987'"
      ]
     },
     "execution_count": 6,
     "metadata": {},
     "output_type": "execute_result"
    }
   ],
   "source": [
    "au"
   ]
  },
  {
   "cell_type": "markdown",
   "metadata": {},
   "source": [
    "Now we need to build a regular expression. After some twiddling, you should end up with something like this, which captures the authors in one group, and the year in another group:"
   ]
  },
  {
   "cell_type": "code",
   "execution_count": 7,
   "metadata": {
    "collapsed": false
   },
   "outputs": [],
   "source": [
    "my_reg = re.compile(r'\\(?([\\w\\s,\\.\\-\\&]*),\\s(\\d{4})\\)?')\n",
    "# Translation\n",
    "# \\(? -> open parenthesis (or not)\n",
    "# ([\\w\\s,\\.\\-\\&]+) -> the first group is the list of authors\n",
    "#                     which can contain \\w (word character)\n",
    "#                     \\s (space) \\. (dot) \\- (dash) \\& (ampersand)\n",
    "# ,\\s -> followed by comma and space\n",
    "# (\\d{4}) -> the second group is the year, 4 digits\n",
    "#  \\)? -> potentially, close parenthesis"
   ]
  },
  {
   "cell_type": "markdown",
   "metadata": {},
   "source": [
    "Test the expression"
   ]
  },
  {
   "cell_type": "code",
   "execution_count": 8,
   "metadata": {
    "collapsed": false
   },
   "outputs": [
    {
     "data": {
      "text/plain": [
       "[('Tadauchi, Hirashima & Matsumura', '1987')]"
      ]
     },
     "execution_count": 8,
     "metadata": {},
     "output_type": "execute_result"
    }
   ],
   "source": [
    "re.findall(my_reg,au)"
   ]
  },
  {
   "cell_type": "markdown",
   "metadata": {},
   "source": [
    "Now we write a function that uses the regular expression to extract an author list (useful when there are multiple authors), and the year"
   ]
  },
  {
   "cell_type": "code",
   "execution_count": 9,
   "metadata": {
    "collapsed": false
   },
   "outputs": [],
   "source": [
    "def extract_list_au_year(au):\n",
    "    tmp = re.match(my_reg, au)\n",
    "    authorlist = tmp.group(1)\n",
    "    year = tmp.group(2)\n",
    "    # split authors into a list using re.split\n",
    "    authorlist = re.split(', | \\& ', authorlist)\n",
    "    # Translation: either separate using ', ' or ' & '\n",
    "    return [authorlist, year]"
   ]
  },
  {
   "cell_type": "markdown",
   "metadata": {},
   "source": [
    "Let's see the output of this function:"
   ]
  },
  {
   "cell_type": "code",
   "execution_count": 10,
   "metadata": {
    "collapsed": false
   },
   "outputs": [
    {
     "data": {
      "text/plain": [
       "[['Tadauchi', 'Hirashima', 'Matsumura'], '1987']"
      ]
     },
     "execution_count": 10,
     "metadata": {},
     "output_type": "execute_result"
    }
   ],
   "source": [
    "extract_list_au_year(au)"
   ]
  },
  {
   "cell_type": "markdown",
   "metadata": {},
   "source": [
    "Finally, let's build two dictionaries:\n",
    "- one tracking the number of times each year is mentioned in the database;\n",
    "- one traking the number of times each author is mentioned"
   ]
  },
  {
   "cell_type": "code",
   "execution_count": 11,
   "metadata": {
    "collapsed": false
   },
   "outputs": [],
   "source": [
    "dict_years = {}\n",
    "dict_authors = {}\n",
    "for au in authors:\n",
    "    tmp = extract_list_au_year(au)\n",
    "    for aunum in tmp[0]:\n",
    "        if aunum in dict_authors.keys():\n",
    "            dict_authors[aunum] = dict_authors[aunum] + 1 \n",
    "        else:\n",
    "            dict_authors[aunum] =  1 \n",
    "    if tmp[1] in dict_years.keys():\n",
    "        dict_years[tmp[1]] = dict_years[tmp[1]] + 1 \n",
    "    else:\n",
    "        dict_years[tmp[1]] =  1 "
   ]
  },
  {
   "cell_type": "markdown",
   "metadata": {},
   "source": [
    "For example, these are all the authors:"
   ]
  },
  {
   "cell_type": "code",
   "execution_count": 12,
   "metadata": {
    "collapsed": false
   },
   "outputs": [
    {
     "data": {
      "text/plain": [
       "{'Abe': 1,\n",
       " 'Abramovich': 2,\n",
       " 'Albuquerque': 8,\n",
       " 'Alfken': 149,\n",
       " 'Almeida': 6,\n",
       " 'Anjos-Silva': 1,\n",
       " 'Arnold': 1,\n",
       " 'Ascher': 1,\n",
       " 'Ashmead': 30,\n",
       " 'Astafurova': 2,\n",
       " 'Atanassov': 1,\n",
       " 'Atwood': 6,\n",
       " 'Audinet-Serville': 11,\n",
       " 'Aurivillius': 1,\n",
       " 'Ayala': 22,\n",
       " 'Azevedo': 2,\n",
       " 'Baker': 44,\n",
       " 'Banaszak': 1,\n",
       " 'Batra': 1,\n",
       " 'Bembé': 1,\n",
       " 'Bennett': 1,\n",
       " 'Benoist': 164,\n",
       " 'Benzi': 1,\n",
       " 'Bertoni': 7,\n",
       " 'Bingham': 47,\n",
       " 'Bischoff': 10,\n",
       " 'Blackburn': 3,\n",
       " 'Blanchard': 4,\n",
       " 'Blüthgen': 315,\n",
       " 'Bohart': 47,\n",
       " 'Boongird': 1,\n",
       " 'Borges': 1,\n",
       " 'Bouseman': 8,\n",
       " 'Bradley': 1,\n",
       " 'Bramson': 1,\n",
       " 'Brauns': 35,\n",
       " 'Bridwell': 16,\n",
       " 'Broemeling': 5,\n",
       " 'Brooks': 103,\n",
       " 'Brues': 2,\n",
       " 'Brullé': 33,\n",
       " 'Brèthes': 42,\n",
       " 'Burmeister': 5,\n",
       " 'Buysson': 6,\n",
       " 'Bytinski-Salz': 1,\n",
       " 'Bär': 1,\n",
       " 'Cabezas': 15,\n",
       " 'Camargo': 75,\n",
       " 'Cameron': 158,\n",
       " 'Cardale': 1,\n",
       " 'Casad': 7,\n",
       " 'Castro': 1,\n",
       " 'Cheesman': 30,\n",
       " 'Chevrier': 1,\n",
       " 'Chiappa': 3,\n",
       " 'Christ': 4,\n",
       " 'Cockerell': 3394,\n",
       " 'Coelho': 5,\n",
       " 'Compagnucci': 10,\n",
       " 'Cooper': 3,\n",
       " 'Costa': 6,\n",
       " 'Crawford': 88,\n",
       " 'Cresson': 437,\n",
       " 'Cross': 2,\n",
       " 'Cunha': 1,\n",
       " 'Cure': 11,\n",
       " 'Curtis': 4,\n",
       " 'Dahlbom': 2,\n",
       " 'Dalla Torre': 65,\n",
       " 'Daly': 31,\n",
       " 'Danforth': 4,\n",
       " 'Darchen': 2,\n",
       " 'Dathe': 38,\n",
       " 'Davies': 11,\n",
       " 'Davydova': 1,\n",
       " 'Dawut': 1,\n",
       " 'De Geer': 1,\n",
       " 'De Stefani': 1,\n",
       " 'DeGeer': 6,\n",
       " 'Dewitz': 1,\n",
       " 'Deyrup': 1,\n",
       " 'Doering': 1,\n",
       " 'Dominique': 2,\n",
       " 'Donovan': 24,\n",
       " 'Dours': 62,\n",
       " 'Dover': 3,\n",
       " 'Dressler': 36,\n",
       " 'Drury': 2,\n",
       " 'Dubitzki': 1,\n",
       " 'Dubitzky': 12,\n",
       " 'Ducke': 92,\n",
       " 'Dufour': 4,\n",
       " 'Dumeril': 1,\n",
       " 'Dunning': 3,\n",
       " 'Durante': 4,\n",
       " 'Dusmet y Alonso': 33,\n",
       " 'E. A. B. Almeida': 5,\n",
       " 'Eardley': 93,\n",
       " 'Ebmer': 215,\n",
       " 'Ehrenfeld': 3,\n",
       " 'Eickwort': 7,\n",
       " 'Ellis': 23,\n",
       " 'Enderlein': 19,\n",
       " 'Engel': 89,\n",
       " 'Erichson': 23,\n",
       " 'Erlandsson': 1,\n",
       " 'Evans': 4,\n",
       " 'Eversmann': 41,\n",
       " 'Exley': 231,\n",
       " 'Fabricius': 138,\n",
       " 'Fan': 13,\n",
       " 'Fedtschenko': 29,\n",
       " 'Ferton': 6,\n",
       " 'Fonscolombe': 3,\n",
       " 'Forster': 1,\n",
       " 'Fourcroy': 1,\n",
       " 'Fowler': 7,\n",
       " 'Fox': 25,\n",
       " 'Franck': 1,\n",
       " 'Franklin': 7,\n",
       " 'Frey-Gessner': 1,\n",
       " 'Friese': 1330,\n",
       " 'Frison': 13,\n",
       " 'Fritz': 15,\n",
       " 'Förster': 21,\n",
       " 'Gaiani': 3,\n",
       " 'Genaro': 16,\n",
       " 'Geoffroy': 2,\n",
       " 'Germar': 2,\n",
       " 'Gerstäcker': 55,\n",
       " 'Gibbs': 1,\n",
       " 'Giordani Soika': 1,\n",
       " 'Giraud': 12,\n",
       " 'Gistel': 3,\n",
       " 'Gmelin': 1,\n",
       " 'Godínez-García': 1,\n",
       " 'Gonzalez': 19,\n",
       " 'González': 3,\n",
       " 'González-Vaquero': 3,\n",
       " 'Gonçalves': 4,\n",
       " 'Gorski': 1,\n",
       " 'Graenicher': 9,\n",
       " 'Graf': 2,\n",
       " 'Greene': 3,\n",
       " 'Gribodo': 75,\n",
       " 'Grigarick': 2,\n",
       " 'Griswold': 50,\n",
       " 'Grünwaldt': 7,\n",
       " 'Guiglia': 2,\n",
       " 'Guilding': 1,\n",
       " 'Gupta': 16,\n",
       " 'Gusenleitner': 39,\n",
       " 'Gussakovsky': 14,\n",
       " 'Guérin-Méneville': 19,\n",
       " 'H. S. Smith': 7,\n",
       " 'Haeseler': 1,\n",
       " 'Hagens': 10,\n",
       " 'Haliday': 7,\n",
       " 'Handlirsch': 8,\n",
       " 'Haneda': 1,\n",
       " 'Harris': 1,\n",
       " 'Harter-Marques': 2,\n",
       " 'Hazir': 1,\n",
       " 'He': 2,\n",
       " 'Hedicke': 24,\n",
       " 'Heinrich': 3,\n",
       " 'Hensen': 1,\n",
       " 'Herbst': 11,\n",
       " 'Herrera': 3,\n",
       " 'Herrich-Schäffer': 8,\n",
       " 'Herrmann': 1,\n",
       " 'Hicks': 2,\n",
       " 'Hill': 1,\n",
       " 'Hinojosa-Díaz': 8,\n",
       " 'Hirashima': 210,\n",
       " 'Hoffmannsegg': 1,\n",
       " 'Holmberg': 181,\n",
       " 'Houston': 50,\n",
       " 'Huang': 1,\n",
       " 'Huard': 2,\n",
       " 'Hurd': 36,\n",
       " 'Ikudome': 8,\n",
       " 'Illiger': 9,\n",
       " 'Imhoff': 8,\n",
       " 'Inoue': 3,\n",
       " 'Itino': 1,\n",
       " 'Jaeger': 1,\n",
       " 'Janjic': 1,\n",
       " 'Janvier': 2,\n",
       " 'Jaycox': 1,\n",
       " 'Jensen-Haarup': 2,\n",
       " 'Jobiraj': 1,\n",
       " 'Jurine': 4,\n",
       " 'Jörgensen': 38,\n",
       " 'Kato': 1,\n",
       " 'Kerr': 3,\n",
       " 'Kim': 2,\n",
       " 'Kimsey': 10,\n",
       " 'King': 9,\n",
       " 'Kirby': 74,\n",
       " 'Klein': 2,\n",
       " 'Klug': 35,\n",
       " 'Knerer': 5,\n",
       " 'Kocourek': 4,\n",
       " 'Kohl': 18,\n",
       " 'Kokujev': 1,\n",
       " 'Kreichbaumer': 1,\n",
       " 'Kriechbaumer': 7,\n",
       " 'Krombein': 11,\n",
       " 'Kuhlmann': 65,\n",
       " 'LaBerge': 192,\n",
       " 'LaRoche': 3,\n",
       " 'Labougle': 1,\n",
       " 'Laboulbene': 1,\n",
       " 'Lanham': 4,\n",
       " 'Larkin': 6,\n",
       " 'Laroca': 1,\n",
       " 'Latreille': 35,\n",
       " 'Le Goff': 1,\n",
       " 'LeVeque': 10,\n",
       " 'Lebedev': 9,\n",
       " 'Lelej': 2,\n",
       " 'Lepeletier': 185,\n",
       " 'Leys': 2,\n",
       " 'Lieftinck': 108,\n",
       " 'Linnaeus': 39,\n",
       " 'Linné': 3,\n",
       " 'Linsley': 59,\n",
       " 'Lobo Segura': 1,\n",
       " 'Lovell': 17,\n",
       " 'Lozinski': 2,\n",
       " 'Lucas': 9,\n",
       " 'Lucas de Oliveira': 1,\n",
       " 'Lucia': 2,\n",
       " 'M. C. de Almeida': 1,\n",
       " 'Maa': 22,\n",
       " 'MacSwain': 16,\n",
       " 'Mackie': 2,\n",
       " 'Maeta': 9,\n",
       " 'Magnacca': 10,\n",
       " 'Magretti': 18,\n",
       " 'Maidl': 16,\n",
       " 'Malloch': 3,\n",
       " 'Marchi': 9,\n",
       " 'Mariskovskaya': 1,\n",
       " 'Masi': 1,\n",
       " 'Matsumura': 19,\n",
       " 'Mavromoustakis': 100,\n",
       " 'Maynard': 16,\n",
       " 'Mazzucco': 1,\n",
       " 'McGinley': 24,\n",
       " 'Meade-Waldo': 45,\n",
       " 'Melo': 23,\n",
       " 'Metz': 16,\n",
       " 'Meunier': 5,\n",
       " 'Meyer': 31,\n",
       " 'Michener': 455,\n",
       " 'Michez': 14,\n",
       " 'Milliron': 1,\n",
       " 'Mitai': 3,\n",
       " 'Mitchell': 270,\n",
       " 'Miyanaga': 2,\n",
       " 'Moalif': 4,\n",
       " 'Mocsáry': 67,\n",
       " 'Moldenke': 37,\n",
       " 'Morawitz': 513,\n",
       " 'Morice': 11,\n",
       " 'Motschulski': 1,\n",
       " 'Moure': 417,\n",
       " 'Munakata': 1,\n",
       " 'Munzinger': 2,\n",
       " 'Murao': 4,\n",
       " 'Müller': 4,\n",
       " 'Nagase': 3,\n",
       " 'Narendran': 1,\n",
       " 'Neff': 5,\n",
       " 'Nemésio': 5,\n",
       " 'Neves': 1,\n",
       " 'Niu': 1,\n",
       " 'Nobile': 7,\n",
       " 'Noble': 1,\n",
       " 'Noskiewicz': 75,\n",
       " 'Nurse': 53,\n",
       " 'Nylander': 37,\n",
       " 'Ogloblin': 7,\n",
       " 'Oliveira': 8,\n",
       " 'Olivier': 14,\n",
       " 'Ordway': 3,\n",
       " 'Ornosa': 1,\n",
       " 'Ortiz': 1,\n",
       " 'Ortiz-Sánchez': 1,\n",
       " 'Ospina-Torres': 2,\n",
       " 'Osytshnjuk': 74,\n",
       " 'Packard': 8,\n",
       " 'Packer': 29,\n",
       " 'Pallas': 4,\n",
       " 'Panzer': 29,\n",
       " 'Parker': 15,\n",
       " 'Pasteels': 197,\n",
       " 'Patiny': 24,\n",
       " 'Patton': 5,\n",
       " 'Pauly': 175,\n",
       " 'Pedro': 25,\n",
       " 'Perkins': 65,\n",
       " 'Perris': 4,\n",
       " 'Perty': 5,\n",
       " 'Pesenko': 56,\n",
       " 'Peters': 16,\n",
       " 'Philippi': 2,\n",
       " 'Pittioni': 7,\n",
       " 'Pohl': 1,\n",
       " 'Ponomareva': 2,\n",
       " 'Popov': 86,\n",
       " 'Porter': 4,\n",
       " 'Priesner': 20,\n",
       " 'Proschchalykin': 1,\n",
       " 'Proshchalykin': 1,\n",
       " 'Provancher': 25,\n",
       " 'Puls': 1,\n",
       " 'Pérez': 309,\n",
       " 'Quilis': 2,\n",
       " 'R. P. Urban': 5,\n",
       " 'Radoszkowski': 113,\n",
       " 'Rahman': 1,\n",
       " 'Ramos': 1,\n",
       " 'Ramírez': 2,\n",
       " 'Rasmont': 4,\n",
       " 'Rasmussen': 1,\n",
       " 'Raw': 7,\n",
       " 'Rayment': 209,\n",
       " 'Rebmann': 18,\n",
       " 'Rebêlo': 5,\n",
       " 'Reed': 5,\n",
       " 'Reyes': 21,\n",
       " 'Ribble': 31,\n",
       " 'Richards': 7,\n",
       " 'Rightmyer': 40,\n",
       " 'Risch': 23,\n",
       " 'Ritsema': 16,\n",
       " 'Roberts': 32,\n",
       " 'Robertson': 135,\n",
       " 'Robinaeau': 1,\n",
       " 'Rodeck': 1,\n",
       " 'Rodriguez': 2,\n",
       " 'Rodríguez': 3,\n",
       " 'Rohwer': 2,\n",
       " 'Roig-Alsina': 71,\n",
       " 'Rojas': 11,\n",
       " 'Romand': 1,\n",
       " 'Romankova': 4,\n",
       " 'Rossi': 11,\n",
       " 'Roubik': 13,\n",
       " 'Rozen': 42,\n",
       " 'Rudow': 2,\n",
       " 'Ruiz': 16,\n",
       " 'Rust': 3,\n",
       " 'Ruz': 45,\n",
       " 'S. Lee': 1,\n",
       " 'Sakagami': 38,\n",
       " 'Sandhouse': 78,\n",
       " 'Sandino-Franco': 1,\n",
       " 'Saunders': 22,\n",
       " 'Saussure': 28,\n",
       " 'Say': 35,\n",
       " 'Schenck': 41,\n",
       " 'Scheuchl': 10,\n",
       " 'Schilling': 1,\n",
       " 'Schletterer': 23,\n",
       " 'Schlindwein': 15,\n",
       " 'Schmidt': 1,\n",
       " 'Schmiedeknecht': 50,\n",
       " 'Schrank': 2,\n",
       " 'Schrottky': 246,\n",
       " 'Schuberth': 1,\n",
       " 'Schulten': 7,\n",
       " 'Schulthess': 1,\n",
       " 'Schulthess-Rechberg': 1,\n",
       " 'Schulz': 13,\n",
       " 'Schummel': 1,\n",
       " 'Schwammberger': 8,\n",
       " 'Schwarz': 170,\n",
       " 'Schwenninger': 1,\n",
       " 'Schwimmer': 1,\n",
       " 'Schönherr': 1,\n",
       " 'Schönitzer': 2,\n",
       " 'Scopoli': 8,\n",
       " 'Seabra': 12,\n",
       " 'Seidl': 1,\n",
       " 'Sepúlveda': 1,\n",
       " 'Shanks': 15,\n",
       " 'Sharma': 6,\n",
       " 'Shinn': 25,\n",
       " 'Shiokawa': 4,\n",
       " 'Shrottky': 1,\n",
       " 'Sichel': 22,\n",
       " 'Sickmann': 1,\n",
       " 'Sielfeld': 1,\n",
       " 'Silveira': 7,\n",
       " 'Silveira et al.': 1,\n",
       " 'Silvestri': 2,\n",
       " 'Simlote': 2,\n",
       " 'Sitdikov': 5,\n",
       " 'Sivik': 1,\n",
       " 'Skorikov': 22,\n",
       " 'Skov': 1,\n",
       " 'Sladen': 3,\n",
       " 'Smith': 943,\n",
       " 'Smith-Pardo': 10,\n",
       " 'Snelling': 72,\n",
       " 'Sonan': 1,\n",
       " 'Sparre-Schneider': 1,\n",
       " 'Spinola': 108,\n",
       " 'Stadelmann': 5,\n",
       " 'Stage': 4,\n",
       " 'Standfuss': 4,\n",
       " 'Stanek': 5,\n",
       " 'Stange': 3,\n",
       " 'Steiner': 13,\n",
       " 'Stephen': 12,\n",
       " 'Stephens': 1,\n",
       " 'Stevens': 4,\n",
       " 'Stoeckhert': 10,\n",
       " 'Strand': 249,\n",
       " 'Sumner': 1,\n",
       " 'Svensson': 1,\n",
       " 'Swederus': 2,\n",
       " 'Swenk': 62,\n",
       " 'Syed': 2,\n",
       " 'Tadauchi': 76,\n",
       " 'Takahashi': 1,\n",
       " 'Tamasana': 1,\n",
       " 'Tapia': 4,\n",
       " 'Taschenberg': 2,\n",
       " 'Terzo': 12,\n",
       " 'Teunissen': 1,\n",
       " 'Tewari': 1,\n",
       " 'Theunert': 1,\n",
       " 'Thiele': 1,\n",
       " 'Thomson': 9,\n",
       " 'Thorp': 19,\n",
       " 'Tierney': 1,\n",
       " 'Timberlake': 864,\n",
       " 'Timmermann': 1,\n",
       " 'Titus': 10,\n",
       " 'Tkalcu': 86,\n",
       " 'Toro': 140,\n",
       " 'Trucco Aleman': 5,\n",
       " 'Truylio': 1,\n",
       " 'Tsuneki': 74,\n",
       " 'Tucker': 1,\n",
       " 'Turrisi': 7,\n",
       " 'Uchida': 3,\n",
       " 'Urban': 282,\n",
       " 'Vachal': 557,\n",
       " 'Vecht': 1,\n",
       " 'Vergara': 1,\n",
       " 'Verhoeff': 1,\n",
       " 'Viana': 2,\n",
       " 'Viereck': 130,\n",
       " 'Vivallo': 3,\n",
       " 'Vogel': 1,\n",
       " 'Vogt': 5,\n",
       " 'Vollenhoven': 1,\n",
       " 'Vélez': 1,\n",
       " 'W. F. Kirby': 13,\n",
       " 'Wahlberg': 1,\n",
       " 'Walckenaer': 1,\n",
       " 'Walker': 112,\n",
       " 'Wang': 1,\n",
       " 'Warncke': 507,\n",
       " 'Wcislo': 3,\n",
       " 'Wesmael': 1,\n",
       " 'Westrich': 3,\n",
       " 'Westwood': 11,\n",
       " 'White': 4,\n",
       " 'Whitehead': 16,\n",
       " 'Wickwar': 1,\n",
       " 'Wiedemann': 1,\n",
       " 'Wille': 3,\n",
       " 'Willis': 3,\n",
       " 'Wittman': 1,\n",
       " 'Wolcott': 1,\n",
       " 'Wu': 213,\n",
       " 'Xu': 37,\n",
       " 'Yanega': 6,\n",
       " 'Yasumatsu': 53,\n",
       " 'Yáñez-Ordóñez': 3,\n",
       " 'Zanella': 4,\n",
       " 'Zavortink': 7,\n",
       " 'Zetterstedt': 5,\n",
       " 'de Beaumont': 1,\n",
       " 'de Gaulle': 1,\n",
       " 'de Villers': 1,\n",
       " 'van Achterberg': 1,\n",
       " 'van der Vecht': 12,\n",
       " 'van der Zanden': 53,\n",
       " 'von Schulthess': 1}"
      ]
     },
     "execution_count": 12,
     "metadata": {},
     "output_type": "execute_result"
    }
   ],
   "source": [
    "dict_authors"
   ]
  },
  {
   "cell_type": "markdown",
   "metadata": {},
   "source": [
    "### What is the name of the author with most entries in the database?\n"
   ]
  },
  {
   "cell_type": "markdown",
   "metadata": {},
   "source": [
    "We use the following strategy:\n",
    "- we find the maximum value in the dictionary\n",
    "- we use the function index to find to which entry is it associated\n",
    "- we find the corresponding author"
   ]
  },
  {
   "cell_type": "code",
   "execution_count": 13,
   "metadata": {
    "collapsed": false
   },
   "outputs": [
    {
     "data": {
      "text/plain": [
       "3394"
      ]
     },
     "execution_count": 13,
     "metadata": {},
     "output_type": "execute_result"
    }
   ],
   "source": [
    "max_value_author = max(dict_authors.values())\n",
    "max_value_author"
   ]
  },
  {
   "cell_type": "code",
   "execution_count": 14,
   "metadata": {
    "collapsed": false
   },
   "outputs": [
    {
     "data": {
      "text/plain": [
       "97"
      ]
     },
     "execution_count": 14,
     "metadata": {},
     "output_type": "execute_result"
    }
   ],
   "source": [
    "which_index = list(dict_authors.values()).index(max_value_author)\n",
    "which_index"
   ]
  },
  {
   "cell_type": "markdown",
   "metadata": {},
   "source": [
    "An the winner is:"
   ]
  },
  {
   "cell_type": "code",
   "execution_count": 15,
   "metadata": {
    "collapsed": false
   },
   "outputs": [
    {
     "data": {
      "text/plain": [
       "'Cockerell'"
      ]
     },
     "execution_count": 15,
     "metadata": {},
     "output_type": "execute_result"
    }
   ],
   "source": [
    "list(dict_authors.keys())[which_index]"
   ]
  },
  {
   "cell_type": "markdown",
   "metadata": {},
   "source": [
    "### Which year of publication is most represented in the database?"
   ]
  },
  {
   "cell_type": "markdown",
   "metadata": {},
   "source": [
    "We use the same strategy to find that the golden year of bee publication is:"
   ]
  },
  {
   "cell_type": "code",
   "execution_count": 16,
   "metadata": {
    "collapsed": false
   },
   "outputs": [
    {
     "data": {
      "text/plain": [
       "'1903'"
      ]
     },
     "execution_count": 16,
     "metadata": {},
     "output_type": "execute_result"
    }
   ],
   "source": [
    "max_value_year = max(dict_years.values())\n",
    "which_index = list(dict_years.values()).index(max_value_year)\n",
    "list(dict_years.keys())[which_index]"
   ]
  }
 ],
 "metadata": {
  "kernelspec": {
   "display_name": "Python 3",
   "language": "python",
   "name": "python3"
  },
  "language_info": {
   "codemirror_mode": {
    "name": "ipython",
    "version": 3
   },
   "file_extension": ".py",
   "mimetype": "text/x-python",
   "name": "python",
   "nbconvert_exporter": "python",
   "pygments_lexer": "ipython3",
   "version": "3.4.3"
  }
 },
 "nbformat": 4,
 "nbformat_minor": 0
}
