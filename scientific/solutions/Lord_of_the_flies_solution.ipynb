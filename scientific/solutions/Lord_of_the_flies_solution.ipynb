{
 "cells": [
  {
   "cell_type": "markdown",
   "metadata": {},
   "source": [
    "## Find the author that published the most papers on *Drosophila virilis*."
   ]
  },
  {
   "cell_type": "code",
   "execution_count": 1,
   "metadata": {
    "collapsed": true
   },
   "outputs": [],
   "source": [
    "from Bio import Entrez\n",
    "import re"
   ]
  },
  {
   "cell_type": "markdown",
   "metadata": {},
   "source": [
    "### We first want to know now many publications have _D. virilis_ in their title or abstract. We use the NCBI history function in order to refer to this search in our subsequent efetch call."
   ]
  },
  {
   "cell_type": "code",
   "execution_count": 2,
   "metadata": {
    "collapsed": false
   },
   "outputs": [
    {
     "data": {
      "text/plain": [
       "'528'"
      ]
     },
     "execution_count": 2,
     "metadata": {},
     "output_type": "execute_result"
    }
   ],
   "source": [
    "# Remember to edit the e-mail address\n",
    "Entrez.email = \"your_name@yourmailhost.com\" # Always tell NCBI who you are\n",
    "handle = Entrez.esearch(db=\"pubmed\", term=\"Drosophila virilis[Title/Abstract]\", usehistory=\"y\")\n",
    "record = Entrez.read(handle)\n",
    "# generate a Python list with all Pubmed IDs of articles about D. virilis\n",
    "id_list = record[\"IdList\"]\n",
    "record[\"Count\"]"
   ]
  },
  {
   "cell_type": "code",
   "execution_count": 3,
   "metadata": {
    "collapsed": true
   },
   "outputs": [],
   "source": [
    "webenv = record[\"WebEnv\"]\n",
    "query_key = record[\"QueryKey\"]"
   ]
  },
  {
   "cell_type": "markdown",
   "metadata": {},
   "source": [
    "### Retrieve the PubMed entries using our search history"
   ]
  },
  {
   "cell_type": "code",
   "execution_count": 4,
   "metadata": {
    "collapsed": true
   },
   "outputs": [],
   "source": [
    "handle = Entrez.efetch(db=\"pubmed\",rettype=\"medline\", retmode=\"text\", retstart=0,\n",
    "retmax=528, webenv=webenv, query_key=query_key)"
   ]
  },
  {
   "cell_type": "code",
   "execution_count": 5,
   "metadata": {
    "collapsed": true
   },
   "outputs": [],
   "source": [
    "out_handle = open(\"D_virilis_pubs.txt\", \"w\")\n",
    "data = handle.read()\n",
    "handle.close()\n",
    "out_handle.write(data)\n",
    "out_handle.close()"
   ]
  },
  {
   "cell_type": "markdown",
   "metadata": {},
   "source": [
    "### We construct a dictionary with all authors as keys and author occurance as value."
   ]
  },
  {
   "cell_type": "code",
   "execution_count": 6,
   "metadata": {
    "collapsed": false
   },
   "outputs": [],
   "source": [
    "with open(\"D_virilis_pubs.txt\") as datafile:\n",
    "    author_dict = {}\n",
    "    for line in datafile:\n",
    "        if re.match(\"AU\", line):\n",
    "            # capture author\n",
    "            author = line.split(\"-\", 1)[1]\n",
    "            # remove leading and trailing whitespace\n",
    "            author = author.strip()\n",
    "            # if key is present, add 1\n",
    "            # if it's not present, initialize at 1\n",
    "            author_dict[author] = 1 + author_dict.get(author, 0)"
   ]
  },
  {
   "cell_type": "markdown",
   "metadata": {},
   "source": [
    "### Dictionaries do not have a natural order but we can sort a dictionary based on the values."
   ]
  },
  {
   "cell_type": "code",
   "execution_count": 7,
   "metadata": {
    "collapsed": false
   },
   "outputs": [
    {
     "name": "stdout",
     "output_type": "stream",
     "text": [
      "Gruntenko NE : 36\n",
      "Evgen'ev MB : 29\n",
      "Raushenbakh IIu : 24\n",
      "Hoikkala A : 23\n",
      "Korochkin LI : 22\n"
     ]
    }
   ],
   "source": [
    "# use the values (retrieved by author_dict.get) for sorting the dictionary\n",
    "# The function \"sorted\" returns a list that can be indexed to return only some elements, e.g. top 5\n",
    "for author in sorted(author_dict, key = author_dict.get, reverse = True)[:5]:\n",
    "    print(author, \":\", author_dict[author])"
   ]
  }
 ],
 "metadata": {
  "kernelspec": {
   "display_name": "Python 3",
   "language": "python",
   "name": "python3"
  },
  "language_info": {
   "codemirror_mode": {
    "name": "ipython",
    "version": 3
   },
   "file_extension": ".py",
   "mimetype": "text/x-python",
   "name": "python",
   "nbconvert_exporter": "python",
   "pygments_lexer": "ipython3",
   "version": "3.5.1"
  }
 },
 "nbformat": 4,
 "nbformat_minor": 0
}
