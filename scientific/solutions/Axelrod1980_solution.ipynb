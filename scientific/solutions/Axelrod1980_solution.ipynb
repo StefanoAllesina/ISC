{
 "cells": [
  {
   "cell_type": "markdown",
   "metadata": {},
   "source": [
    "## Solution of Axelrod 1980 "
   ]
  },
  {
   "cell_type": "code",
   "execution_count": 1,
   "metadata": {
    "collapsed": true
   },
   "outputs": [],
   "source": [
    "import numpy as np"
   ]
  },
  {
   "cell_type": "markdown",
   "metadata": {},
   "source": [
    "### Implement the five strategies"
   ]
  },
  {
   "cell_type": "code",
   "execution_count": 2,
   "metadata": {
    "collapsed": true
   },
   "outputs": [],
   "source": [
    "# We are going to implement five strategies. \n",
    "# Each strategy takes as input the history of the turns played so far\n",
    "# and returns 1 for cooperation and 0 for defection.\n",
    "\n",
    "# 1) Always defect\n",
    "def always_defect(previous_steps):\n",
    "    return 0\n",
    "\n",
    "# 2) Always cooperate\n",
    "def always_cooperate(previous_steps):\n",
    "    return 1\n",
    "\n",
    "# 3) Purely random, with probability of defecting 0.5\n",
    "def random(previous_steps):\n",
    "    if np.random.random(1) > 0.5:\n",
    "        return 1\n",
    "    return 0\n",
    "\n",
    "# 4) Tit for tat\n",
    "def tit_for_tat(previous_steps):\n",
    "    if len(previous_steps) == 0:\n",
    "        return 1\n",
    "    return previous_steps[-1]\n",
    "\n",
    "# 5) Tit for two tat\n",
    "def tit_for_two_tat(previous_steps):\n",
    "    if len(previous_steps) < 2:\n",
    "        return 1\n",
    "    # if the other player defected twice\n",
    "    if sum(previous_steps[-2:]) == 0:\n",
    "        # retaliate\n",
    "        return 0\n",
    "    return 1"
   ]
  },
  {
   "cell_type": "markdown",
   "metadata": {},
   "source": [
    "### Write a function that accepts the name of two strategies and   competes them in a game of iterated prisoner's dilemma for a given   number of turns."
   ]
  },
  {
   "cell_type": "code",
   "execution_count": 3,
   "metadata": {
    "collapsed": true
   },
   "outputs": [],
   "source": [
    "def play_strategies(strategy_1, strategy_2, nsteps = 200):\n",
    "    # The following two lines are a bit complicated:\n",
    "    # we want to match a string (strategy_1) with a name of the function\n",
    "    # and the call globals()[strategy_1] does just that. Now\n",
    "    # pl1 is an \"alias\" for the same function.\n",
    "    pl1 = globals()[strategy_1]\n",
    "    pl2 = globals()[strategy_2]\n",
    "    # If you prefer, you can deal with this problem by using\n",
    "    # a series of if elif.\n",
    "    \n",
    "    # Now two vectors to store the moves of the players\n",
    "    steps_pl1 = []\n",
    "    steps_pl2 = []\n",
    "    # And two variables for keeping the scores. \n",
    "    # (because we said these are numbers of years in prison, we \n",
    "    # use negative payoffs, with less negative being better)\n",
    "    points_pl1 = 0\n",
    "    points_pl2 = 0\n",
    "    # Iterate over the number of steps\n",
    "    for i in range(nsteps):\n",
    "        # decide strategy:\n",
    "        # player 1 chooses using the history of the moves by player 2\n",
    "        last_pl1 = pl1(steps_pl2) \n",
    "        # and vice versa\n",
    "        last_pl2 = pl2(steps_pl1)\n",
    "        # calculate payoff\n",
    "        if last_pl1 == 1 and last_pl2 == 1:\n",
    "            # both cooperate -> -1 point each\n",
    "            points_pl1 = points_pl1 - 1\n",
    "            points_pl2 = points_pl2 - 1\n",
    "        elif last_pl1 == 0 and last_pl2 == 1:\n",
    "            # pl2 lose\n",
    "            points_pl1 = points_pl1 - 0\n",
    "            points_pl2 = points_pl2 - 3\n",
    "        elif last_pl1 == 1 and last_pl2 == 0:\n",
    "            # pl1 lose\n",
    "            points_pl1 = points_pl1 - 3\n",
    "            points_pl2 = points_pl2 - 0\n",
    "        else:\n",
    "            # both defect\n",
    "            points_pl1 = points_pl1 - 2\n",
    "            points_pl2 = points_pl2 - 2\n",
    "        # add the moves to the history\n",
    "        steps_pl1.append(last_pl1)\n",
    "        steps_pl2.append(last_pl2)\n",
    "    # return the final scores\n",
    "    return((points_pl1, points_pl2))"
   ]
  },
  {
   "cell_type": "code",
   "execution_count": 4,
   "metadata": {
    "collapsed": false
   },
   "outputs": [
    {
     "data": {
      "text/plain": [
       "(-516, -168)"
      ]
     },
     "execution_count": 4,
     "metadata": {},
     "output_type": "execute_result"
    }
   ],
   "source": [
    "play_strategies(\"random\", \"always_defect\")"
   ]
  },
  {
   "cell_type": "markdown",
   "metadata": {},
   "source": [
    "### Implement a round-robin tournament, in which each strategy is played against every other (including against itself) for 10 rounds of 1000 turns each."
   ]
  },
  {
   "cell_type": "code",
   "execution_count": 5,
   "metadata": {
    "collapsed": false
   },
   "outputs": [],
   "source": [
    "def round_robin(strategies, nround, nstep):\n",
    "    nstrategies = len(strategies)\n",
    "    # initialize list for results\n",
    "    strategies_points = [0] * nstrategies\n",
    "    # for each pair\n",
    "    for i in range(nstrategies):\n",
    "        for j in range(i, nstrategies):\n",
    "            print(\"Playing\", strategies[i], \"vs.\", strategies[j])\n",
    "            for k in range(nround):\n",
    "                res = play_strategies(strategies[i], \n",
    "                                      strategies[j], \n",
    "                                      nstep)\n",
    "                #print(res)\n",
    "                strategies_points[i] = strategies_points[i] + res[0]\n",
    "                strategies_points[j] = strategies_points[j] + res[1]\n",
    "    print(\"\\nThe final results are:\")\n",
    "    for i in range(nstrategies):\n",
    "        print(strategies[i] + \":\", strategies_points[i])\n",
    "    print(\"\\nand the winner is....\")\n",
    "    print(strategies[strategies_points.index(max(strategies_points))])\n",
    "                "
   ]
  },
  {
   "cell_type": "code",
   "execution_count": 6,
   "metadata": {
    "collapsed": true
   },
   "outputs": [],
   "source": [
    "my_strategies = [\"always_defect\",\n",
    "                 \"always_cooperate\", \n",
    "                 \"random\", \n",
    "                 \"tit_for_tat\", \n",
    "                 \"tit_for_two_tat\"]"
   ]
  },
  {
   "cell_type": "code",
   "execution_count": 7,
   "metadata": {
    "collapsed": false
   },
   "outputs": [
    {
     "name": "stdout",
     "output_type": "stream",
     "text": [
      "Playing always_defect vs. always_defect\n",
      "Playing always_defect vs. always_cooperate\n",
      "Playing always_defect vs. random\n",
      "Playing always_defect vs. tit_for_tat\n",
      "Playing always_defect vs. tit_for_two_tat\n",
      "Playing always_cooperate vs. always_cooperate\n",
      "Playing always_cooperate vs. random\n",
      "Playing always_cooperate vs. tit_for_tat\n",
      "Playing always_cooperate vs. tit_for_two_tat\n",
      "Playing random vs. random\n",
      "Playing random vs. tit_for_tat\n",
      "Playing random vs. tit_for_two_tat\n",
      "Playing tit_for_tat vs. tit_for_tat\n",
      "Playing tit_for_tat vs. tit_for_two_tat\n",
      "Playing tit_for_two_tat vs. tit_for_two_tat\n",
      "\n",
      "The final results are:\n",
      "always_defect: -90082\n",
      "always_cooperate: -90132\n",
      "random: -84673\n",
      "tit_for_tat: -75001\n",
      "tit_for_two_tat: -77549\n",
      "\n",
      "and the winner is....\n",
      "tit_for_tat\n"
     ]
    }
   ],
   "source": [
    "round_robin(my_strategies, 10, 1000)"
   ]
  },
  {
   "cell_type": "code",
   "execution_count": null,
   "metadata": {
    "collapsed": true
   },
   "outputs": [],
   "source": []
  }
 ],
 "metadata": {
  "kernelspec": {
   "display_name": "Python 3",
   "language": "python",
   "name": "python3"
  },
  "language_info": {
   "codemirror_mode": {
    "name": "ipython",
    "version": 3
   },
   "file_extension": ".py",
   "mimetype": "text/x-python",
   "name": "python",
   "nbconvert_exporter": "python",
   "pygments_lexer": "ipython3",
   "version": "3.4.3"
  }
 },
 "nbformat": 4,
 "nbformat_minor": 0
}
